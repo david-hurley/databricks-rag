{
 "cells": [
  {
   "cell_type": "code",
   "execution_count": 1,
   "metadata": {
    "application/vnd.databricks.v1+cell": {
     "cellMetadata": {},
     "inputWidgets": {},
     "nuid": "d81fbe2a-782d-42c9-a6b7-9961c2a71dbf",
     "showTitle": false,
     "tableResultSettingsMap": {},
     "title": ""
    }
   },
   "outputs": [],
   "source": [
    "from utils.get_path_of_files_modified_in_last_day import get_path_of_files_modified_in_last_day\n",
    "from utils.extract_pdf_text import extract_pdf_text\n",
    "from utils.get_form10k_metadata_from_pdf_text_with_llm import get_form10k_metadata_from_pdf_text_with_llm"
   ]
  },
  {
   "cell_type": "markdown",
   "metadata": {
    "application/vnd.databricks.v1+cell": {
     "cellMetadata": {},
     "inputWidgets": {},
     "nuid": "38452b51-915e-49ec-99ad-6af7d51622d9",
     "showTitle": false,
     "tableResultSettingsMap": {},
     "title": ""
    }
   },
   "source": [
    "## Actions to take\n",
    "1. Check volume for PDF files modified in last 24 hours\n",
    "2. Convert PDF to text\n",
    "3. Extract metadata from PDF and check if document has already been processed\n",
    "4. If document is new then convert to markdown and chunk text\n",
    "5. Save metadata and chunk text to tables"
   ]
  },
  {
   "cell_type": "markdown",
   "metadata": {
    "application/vnd.databricks.v1+cell": {
     "cellMetadata": {},
     "inputWidgets": {},
     "nuid": "3099c9c2-4583-4ebc-9571-a1c426d8c928",
     "showTitle": false,
     "tableResultSettingsMap": {},
     "title": ""
    }
   },
   "source": [
    "## Check volume for recently modified PDF files\n"
   ]
  },
  {
   "cell_type": "code",
   "execution_count": 2,
   "metadata": {
    "application/vnd.databricks.v1+cell": {
     "cellMetadata": {},
     "inputWidgets": {},
     "nuid": "ced8eda7-a692-43d7-b7a1-8a19ca01cb4f",
     "showTitle": false,
     "tableResultSettingsMap": {},
     "title": ""
    }
   },
   "outputs": [],
   "source": [
    "pdfs_volume_path = \"pdf_docs\"\n",
    "pdfs_to_process = get_path_of_files_modified_in_last_day(pdfs_volume_path)"
   ]
  },
  {
   "cell_type": "markdown",
   "metadata": {},
   "source": [
    "## Convert PDF to text\n",
    "Crude conversion to extract metadata via LLM and create unique document hash\n"
   ]
  },
  {
   "cell_type": "code",
   "execution_count": 3,
   "metadata": {},
   "outputs": [],
   "source": [
    "pdf_text = extract_pdf_text(pdfs_to_process[0]) # start with one for now"
   ]
  },
  {
   "cell_type": "markdown",
   "metadata": {},
   "source": [
    "## Extract First Page Metadata with LLM\n"
   ]
  },
  {
   "cell_type": "code",
   "execution_count": null,
   "metadata": {},
   "outputs": [],
   "source": [
    "llm_extracted_metadata = get_form10k_metadata_from_pdf_text_with_llm(pdf_text[0])"
   ]
  },
  {
   "cell_type": "markdown",
   "metadata": {},
   "source": [
    "## If Document Already Exists Check For New Text Content\n"
   ]
  },
  {
   "cell_type": "code",
   "execution_count": 2,
   "metadata": {},
   "outputs": [
    {
     "data": {
      "text/plain": [
       "<sqlite3.Cursor at 0x119a4b4c0>"
      ]
     },
     "execution_count": 2,
     "metadata": {},
     "output_type": "execute_result"
    }
   ],
   "source": [
    "import sqlite3\n",
    "\n",
    "# Initialize Spark session\n",
    "connection_obj = sqlite3.connect('geek.db')\n",
    " \n",
    "# cursor object\n",
    "cursor_obj = connection_obj.cursor()\n",
    " \n",
    "# Drop the GEEK table if already exists.\n",
    "cursor_obj.execute(\"DROP TABLE IF EXISTS GEEK\")\n",
    " \n",
    "# Creating table\n",
    "table = \"\"\" CREATE TABLE GEEK (\n",
    "            Email VARCHAR(255) NOT NULL,\n",
    "            First_Name CHAR(25) NOT NULL,\n",
    "            Last_Name CHAR(25),\n",
    "            Score INT\n",
    "        ); \"\"\"\n",
    " \n",
    "cursor_obj.execute(table)"
   ]
  },
  {
   "cell_type": "code",
   "execution_count": 9,
   "metadata": {},
   "outputs": [
    {
     "data": {
      "text/plain": [
       "{'fileNumber': '001-37845',\n",
       " 'companyName': 'MICROSOFT CORPORATION',\n",
       " 'tradingSymbol': 'MSFT',\n",
       " 'fiscalYearEndDate': '2024-06-30'}"
      ]
     },
     "execution_count": 9,
     "metadata": {},
     "output_type": "execute_result"
    }
   ],
   "source": [
    "json_data"
   ]
  },
  {
   "cell_type": "code",
   "execution_count": null,
   "metadata": {},
   "outputs": [],
   "source": []
  }
 ],
 "metadata": {
  "application/vnd.databricks.v1+notebook": {
   "computePreferences": null,
   "dashboards": [],
   "environmentMetadata": {
    "base_environment": "",
    "environment_version": "2"
   },
   "language": "python",
   "notebookMetadata": {
    "pythonIndentUnit": 4
   },
   "notebookName": "2_ocr_pdf_and_create_text_chunks",
   "widgets": {}
  },
  "kernelspec": {
   "display_name": "pyenv313",
   "language": "python",
   "name": "pyenv313"
  },
  "language_info": {
   "codemirror_mode": {
    "name": "ipython",
    "version": 3
   },
   "file_extension": ".py",
   "mimetype": "text/x-python",
   "name": "python",
   "nbconvert_exporter": "python",
   "pygments_lexer": "ipython3",
   "version": "3.10.0"
  }
 },
 "nbformat": 4,
 "nbformat_minor": 0
}
