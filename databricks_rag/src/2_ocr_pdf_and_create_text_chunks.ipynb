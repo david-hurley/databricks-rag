{
 "cells": [
  {
   "cell_type": "code",
   "execution_count": 0,
   "metadata": {
    "application/vnd.databricks.v1+cell": {
     "cellMetadata": {
      "byteLimit": 2048000,
      "rowLimit": 10000
     },
     "inputWidgets": {},
     "nuid": "bca01f6a-7231-4b79-b3fd-9e0c4e3779b5",
     "showTitle": false,
     "tableResultSettingsMap": {},
     "title": ""
    }
   },
   "outputs": [],
   "source": [
    "%load_ext autoreload\n",
    "%autoreload 2\n",
    "# Enables autoreload; learn more at https://docs.databricks.com/en/files/workspace-modules.html#autoreload-for-python-modules\n",
    "# To disable autoreload; run %autoreload 0"
   ]
  },
  {
   "cell_type": "code",
   "execution_count": 0,
   "metadata": {
    "application/vnd.databricks.v1+cell": {
     "cellMetadata": {
      "byteLimit": 2048000,
      "rowLimit": 10000
     },
     "inputWidgets": {},
     "nuid": "d81fbe2a-782d-42c9-a6b7-9961c2a71dbf",
     "showTitle": false,
     "tableResultSettingsMap": {},
     "title": ""
    }
   },
   "outputs": [],
   "source": [
    "from utils.get_path_of_files_modified_in_last_day import get_path_of_files_modified_in_last_day\n",
    "from utils.extract_pdf_text_basic import extract_pdf_text_basic\n",
    "from utils.get_form10k_metadata_from_pdf_text_with_llm import get_form10k_metadata_from_pdf_text_with_llm, is_llm_response_valid, parse_valid_llm_response\n",
    "from utils.create_unique_file_hash import create_unique_pdf_hash\n",
    "from utils.convert_pdf_to_markdown_mistral import convert_pdf_to_markdown_mistral"
   ]
  },
  {
   "cell_type": "markdown",
   "metadata": {
    "application/vnd.databricks.v1+cell": {
     "cellMetadata": {},
     "inputWidgets": {},
     "nuid": "38452b51-915e-49ec-99ad-6af7d51622d9",
     "showTitle": false,
     "tableResultSettingsMap": {},
     "title": ""
    }
   },
   "source": [
    "## What this notebook does\n",
    "1. Scan Volume for PDFs modified in last 24 hours\n",
    "2. Extract metadata from document title page using \n",
    "3. Extract metadata from PDF and check if document has already been processed\n",
    "4. If document is new then convert to markdown and chunk text\n",
    "5. Save metadata and chunk text to tables"
   ]
  },
  {
   "cell_type": "markdown",
   "metadata": {
    "application/vnd.databricks.v1+cell": {
     "cellMetadata": {},
     "inputWidgets": {},
     "nuid": "3099c9c2-4583-4ebc-9571-a1c426d8c928",
     "showTitle": false,
     "tableResultSettingsMap": {},
     "title": ""
    }
   },
   "source": [
    "## Check volume for recently modified PDF files\n"
   ]
  },
  {
   "cell_type": "code",
   "execution_count": 0,
   "metadata": {
    "application/vnd.databricks.v1+cell": {
     "cellMetadata": {
      "byteLimit": 2048000,
      "rowLimit": 10000
     },
     "inputWidgets": {},
     "nuid": "ced8eda7-a692-43d7-b7a1-8a19ca01cb4f",
     "showTitle": false,
     "tableResultSettingsMap": {},
     "title": ""
    }
   },
   "outputs": [],
   "source": [
    "pdfs_volume_path = \"/Volumes/databricks_examples/financial_rag/form10k_pdfs\"\n",
    "pdfs_to_process = get_path_of_files_modified_in_last_day(pdfs_volume_path)"
   ]
  },
  {
   "cell_type": "markdown",
   "metadata": {
    "application/vnd.databricks.v1+cell": {
     "cellMetadata": {},
     "inputWidgets": {},
     "nuid": "1e4a80a9-93df-43a5-9d0e-7c706037e5fc",
     "showTitle": false,
     "tableResultSettingsMap": {},
     "title": ""
    }
   },
   "source": [
    "## Convert PDF to text\n",
    "Crude conversion to extract metadata via LLM and create unique document hash\n"
   ]
  },
  {
   "cell_type": "code",
   "execution_count": 0,
   "metadata": {
    "application/vnd.databricks.v1+cell": {
     "cellMetadata": {
      "byteLimit": 2048000,
      "rowLimit": 10000
     },
     "inputWidgets": {},
     "nuid": "950c724a-951b-420e-8ed4-45f60265e8a0",
     "showTitle": false,
     "tableResultSettingsMap": {},
     "title": ""
    }
   },
   "outputs": [],
   "source": [
    "pdf_text = extract_pdf_text_basic(pdfs_to_process[0]) # start with one for now"
   ]
  },
  {
   "cell_type": "markdown",
   "metadata": {
    "application/vnd.databricks.v1+cell": {
     "cellMetadata": {},
     "inputWidgets": {},
     "nuid": "a53d615b-67f1-4279-96d0-672db1f48702",
     "showTitle": false,
     "tableResultSettingsMap": {},
     "title": ""
    }
   },
   "source": [
    "## Extract First Page Metadata with LLM\n"
   ]
  },
  {
   "cell_type": "code",
   "execution_count": 0,
   "metadata": {
    "application/vnd.databricks.v1+cell": {
     "cellMetadata": {
      "byteLimit": 2048000,
      "rowLimit": 10000
     },
     "inputWidgets": {},
     "nuid": "75db8f06-df93-4108-9e5d-6d9a946929ed",
     "showTitle": false,
     "tableResultSettingsMap": {},
     "title": ""
    }
   },
   "outputs": [],
   "source": [
    "raw_response = get_form10k_metadata_from_pdf_text_with_llm(pdf_text[0], \"openai-completion-endpoint\")\n",
    "\n",
    "isResponseValid = is_llm_response_valid(raw_response)\n",
    "\n",
    "if not isResponseValid:\n",
    "    # TO DO: break out of file loop\n",
    "    pass\n",
    "\n",
    "json_metadata = parse_valid_llm_response(raw_response)\n"
   ]
  },
  {
   "cell_type": "markdown",
   "metadata": {
    "application/vnd.databricks.v1+cell": {
     "cellMetadata": {},
     "inputWidgets": {},
     "nuid": "da5391a4-a2a5-41ea-9fa2-b3a42cdb56af",
     "showTitle": false,
     "tableResultSettingsMap": {},
     "title": ""
    }
   },
   "source": [
    "## If Document Already Exists Check For New Text Content\n"
   ]
  },
  {
   "cell_type": "code",
   "execution_count": 0,
   "metadata": {
    "application/vnd.databricks.v1+cell": {
     "cellMetadata": {
      "byteLimit": 2048000,
      "rowLimit": 10000
     },
     "inputWidgets": {},
     "nuid": "4930a69d-9640-4dbc-8a93-e00a65c84a8a",
     "showTitle": false,
     "tableResultSettingsMap": {},
     "title": ""
    }
   },
   "outputs": [],
   "source": [
    "file_number = json_metadata['fileNumber']\n",
    "unique_document_hash = create_unique_pdf_hash(file_number, \"\".join(pdf_text))\n",
    "\n",
    "query = f\"\"\"\n",
    "SELECT COUNT(*)\n",
    "FROM databricks_examples.financial_rag.pdf_metadata\n",
    "WHERE fileNumber = '{json_metadata['fileNumber']}'\n",
    "AND documentHash = '{unique_document_hash}'\n",
    "\"\"\"\n",
    "\n",
    "# if the file number and unique hash exist the file and existing content were already processed\n",
    "doesRecordExist = spark.sql(query).collect()[0][0] > 0\n",
    "\n",
    "if doesRecordExist:\n",
    "    # TO DO: break out of file loop\n",
    "    print('record exists')\n",
    "    pass\n",
    "\n",
    "pdf_markdown = convert_pdf_to_markdown_mistral(pdfs_to_process[0], dbutils.secrets.get(scope=\"mistral\", key=\"apikey\"))"
   ]
  },
  {
   "cell_type": "code",
   "execution_count": 0,
   "metadata": {
    "application/vnd.databricks.v1+cell": {
     "cellMetadata": {
      "byteLimit": 2048000,
      "rowLimit": 10000
     },
     "inputWidgets": {},
     "nuid": "ad3e97c7-5df6-48d8-801a-00f50947e0b6",
     "showTitle": false,
     "tableResultSettingsMap": {},
     "title": ""
    }
   },
   "outputs": [],
   "source": [
    "json_metadata['documentHash'] = unique_document_hash\n",
    "\n",
    "# Convert json_metadata to a DataFrame\n",
    "json_metadata_df = spark.createDataFrame([json_metadata])\n",
    "\n",
    "# Upsert the json_metadata into the pdf_metadata table\n",
    "json_metadata_df.createOrReplaceTempView(\"json_metadata_view\")\n",
    "\n",
    "upsert_query = \"\"\"\n",
    "MERGE INTO databricks_examples.financial_rag.pdf_metadata AS target\n",
    "USING json_metadata_view AS source\n",
    "ON target.fileNumber = source.fileNumber\n",
    "WHEN MATCHED THEN\n",
    "  UPDATE SET\n",
    "    companyName = source.companyName,\n",
    "    tradingSymbol = source.tradingSymbol,\n",
    "    fiscalYearEndDate = source.fiscalYearEndDate,\n",
    "    documentHash = source.documentHash\n",
    "WHEN NOT MATCHED THEN\n",
    "  INSERT (fileNumber, companyName, tradingSymbol, fiscalYearEndDate, documentHash)\n",
    "  VALUES (source.fileNumber, source.companyName, source.tradingSymbol, source.fiscalYearEndDate, source.documentHash)\n",
    "\"\"\"\n",
    "\n",
    "spark.sql(upsert_query)"
   ]
  },
  {
   "cell_type": "code",
   "execution_count": 0,
   "metadata": {
    "application/vnd.databricks.v1+cell": {
     "cellMetadata": {
      "byteLimit": 2048000,
      "rowLimit": 10000
     },
     "inputWidgets": {},
     "nuid": "bb9a9a4a-1f24-4886-b9de-93dc55d8d72e",
     "showTitle": false,
     "tableResultSettingsMap": {},
     "title": ""
    }
   },
   "outputs": [],
   "source": [
    "# Step 1: Drop any rows with the fileNumber\n",
    "drop_query = f\"\"\"\n",
    "DELETE FROM databricks_examples.financial_rag.pdf_text\n",
    "WHERE edgar_pdf_metadata_fileNumber = '{json_metadata['fileNumber']}'\n",
    "\"\"\"\n",
    "spark.sql(drop_query)\n",
    "\n",
    "# Step 2: Upsert new data\n",
    "page_data = [\n",
    "    (json_metadata['fileNumber'], content.markdown, page_number + 1)\n",
    "    for page_number, content in enumerate(pdf_markdown.pages)\n",
    "]\n",
    "\n",
    "# Create DataFrame for all pages at once\n",
    "page_df = spark.createDataFrame(page_data, [\"edgar_pdf_metadata_fileNumber\", \"text\", \"pageNumber\"])\n",
    "page_df.createOrReplaceTempView(\"page_data_view\")\n",
    "\n",
    "# Step 3: Insert all data at once\n",
    "insert_query = \"\"\"\n",
    "INSERT INTO databricks_examples.financial_rag.pdf_text \n",
    "(edgar_pdf_metadata_fileNumber, text, pageNumber)\n",
    "SELECT edgar_pdf_metadata_fileNumber, text, pageNumber FROM page_data_view\n",
    "\"\"\"\n",
    "spark.sql(insert_query)"
   ]
  },
  {
   "cell_type": "code",
   "execution_count": 0,
   "metadata": {
    "application/vnd.databricks.v1+cell": {
     "cellMetadata": {},
     "inputWidgets": {},
     "nuid": "05db76f5-061e-41ea-8be0-34b92f42bec2",
     "showTitle": false,
     "tableResultSettingsMap": {},
     "title": ""
    }
   },
   "outputs": [],
   "source": [
    "%sql\n",
    "CREATE TABLE IF NOT EXISTS databricks_examples.financial_rag.pdf_text (\n",
    "    id BIGINT GENERATED ALWAYS AS IDENTITY,\n",
    "    edgar_pdf_metadata_fileNumber BIGINT,\n",
    "    text STRING,\n",
    "    pageNumber INT,\n",
    "    FOREIGN KEY (edgar_pdf_metadata_fileNumber) REFERENCES databricks_examples.financial_rag.pdf_metadata(fileNumber)\n",
    ") TBLPROPERTIES (delta.enableChangeDataFeed = true);"
   ]
  },
  {
   "cell_type": "code",
   "execution_count": 0,
   "metadata": {
    "application/vnd.databricks.v1+cell": {
     "cellMetadata": {
      "byteLimit": 2048000,
      "rowLimit": 10000
     },
     "inputWidgets": {},
     "nuid": "ab037021-280d-4037-8fe2-334c33a60988",
     "showTitle": false,
     "tableResultSettingsMap": {},
     "title": ""
    }
   },
   "outputs": [],
   "source": [
    "query = \"SELECT * FROM databricks_examples.financial_rag.pdf_text\"\n",
    "result_df = spark.sql(query)\n",
    "display(result_df.limit(50))\n",
    "\n",
    "# 5bda4e72a9b82f27960c5d963d05b7d10802458b5911b867ac135eac91d94ab9"
   ]
  },
  {
   "cell_type": "code",
   "execution_count": 0,
   "metadata": {
    "application/vnd.databricks.v1+cell": {
     "cellMetadata": {},
     "inputWidgets": {},
     "nuid": "3404c53b-5c86-4449-8e0e-b2cac7fa68f6",
     "showTitle": false,
     "tableResultSettingsMap": {},
     "title": ""
    }
   },
   "outputs": [],
   "source": [
    "%sql\n",
    "CREATE TABLE IF NOT EXISTS databricks_examples.financial_rag.pdf_metadata (\n",
    "    fileNumber BIGINT PRIMARY KEY,\n",
    "    companyName STRING,\n",
    "    tradingSymbol STRING,\n",
    "    fiscalYearEndDate STRING,\n",
    "    documentHash STRING\n",
    ") TBLPROPERTIES (delta.enableChangeDataFeed = true);\n"
   ]
  },
  {
   "cell_type": "code",
   "execution_count": 0,
   "metadata": {
    "application/vnd.databricks.v1+cell": {
     "cellMetadata": {},
     "inputWidgets": {},
     "nuid": "bfcbf094-2176-49c6-9a57-117e07cfd24a",
     "showTitle": false,
     "tableResultSettingsMap": {},
     "title": ""
    }
   },
   "outputs": [],
   "source": [
    "import sqlite3\n",
    "\n",
    "# Initialize Spark session\n",
    "connection_obj = sqlite3.connect('geek.db')\n",
    " \n",
    "# cursor object\n",
    "cursor_obj = connection_obj.cursor()\n",
    " \n",
    "# Drop the GEEK table if already exists.\n",
    "cursor_obj.execute(\"DROP TABLE IF EXISTS GEEK\")\n",
    " \n",
    "# Creating table\n",
    "table = \"\"\" CREATE TABLE GEEK (\n",
    "            Email VARCHAR(255) NOT NULL,\n",
    "            First_Name CHAR(25) NOT NULL,\n",
    "            Last_Name CHAR(25),\n",
    "            Score INT\n",
    "        ); \"\"\"\n",
    " \n",
    "cursor_obj.execute(table)"
   ]
  },
  {
   "cell_type": "code",
   "execution_count": 0,
   "metadata": {
    "application/vnd.databricks.v1+cell": {
     "cellMetadata": {},
     "inputWidgets": {},
     "nuid": "f72acd42-1066-4d65-9e6b-c6b566be950a",
     "showTitle": false,
     "tableResultSettingsMap": {},
     "title": ""
    }
   },
   "outputs": [],
   "source": [
    "json_data"
   ]
  },
  {
   "cell_type": "code",
   "execution_count": 0,
   "metadata": {
    "application/vnd.databricks.v1+cell": {
     "cellMetadata": {},
     "inputWidgets": {},
     "nuid": "0394c59f-97a0-4da7-92c8-265e60e12a5f",
     "showTitle": false,
     "tableResultSettingsMap": {},
     "title": ""
    }
   },
   "outputs": [],
   "source": []
  }
 ],
 "metadata": {
  "application/vnd.databricks.v1+notebook": {
   "computePreferences": {
    "hardware": {
     "accelerator": null,
     "gpuPoolId": null,
     "memory": null
    }
   },
   "dashboards": [],
   "environmentMetadata": {
    "base_environment": "/Workspace/Users/hurleyldave2@gmail.com/databricks-rag/databricks_rag/base_environment.yml",
    "environment_version": "2"
   },
   "language": "python",
   "notebookMetadata": {
    "pythonIndentUnit": 4
   },
   "notebookName": "2_ocr_pdf_and_create_text_chunks",
   "widgets": {}
  },
  "kernelspec": {
   "display_name": "pyenv313",
   "language": "python",
   "name": "pyenv313"
  },
  "language_info": {
   "name": "python"
  }
 },
 "nbformat": 4,
 "nbformat_minor": 0
}
