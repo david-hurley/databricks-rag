{
 "cells": [
  {
   "cell_type": "code",
   "execution_count": 0,
   "metadata": {
    "application/vnd.databricks.v1+cell": {
     "cellMetadata": {
      "byteLimit": 2048000,
      "rowLimit": 10000
     },
     "inputWidgets": {},
     "nuid": "bca01f6a-7231-4b79-b3fd-9e0c4e3779b5",
     "showTitle": false,
     "tableResultSettingsMap": {},
     "title": ""
    }
   },
   "outputs": [],
   "source": [
    "%load_ext autoreload\n",
    "%autoreload 2\n",
    "# Enables autoreload; learn more at https://docs.databricks.com/en/files/workspace-modules.html#autoreload-for-python-modules\n",
    "# To disable autoreload; run %autoreload 0"
   ]
  },
  {
   "cell_type": "code",
   "execution_count": 0,
   "metadata": {
    "application/vnd.databricks.v1+cell": {
     "cellMetadata": {
      "byteLimit": 2048000,
      "rowLimit": 10000
     },
     "inputWidgets": {},
     "nuid": "d81fbe2a-782d-42c9-a6b7-9961c2a71dbf",
     "showTitle": false,
     "tableResultSettingsMap": {},
     "title": ""
    }
   },
   "outputs": [],
   "source": [
    "from utils.get_path_of_files_modified_in_last_day import get_path_of_files_modified_in_last_day\n",
    "from utils.extract_pdf_text_basic import extract_pdf_text_basic\n",
    "from utils.get_form10k_metadata_from_pdf_text_with_llm import get_form10k_metadata_from_pdf_text_with_llm, is_llm_response_valid, parse_valid_llm_response\n",
    "from utils.create_unique_file_hash import create_unique_pdf_hash\n",
    "from utils.convert_pdf_to_markdown_mistral import convert_pdf_to_markdown_mistral\n",
    "from utils.does_pdf_record_exist_metadata_table import does_pdf_record_exist_metadata_table\n",
    "from utils.create_update_pdf_metadata import create_update_pdf_metadata\n",
    "from utils.delete_create_pdf_text import delete_create_pdf_text"
   ]
  },
  {
   "cell_type": "markdown",
   "metadata": {
    "application/vnd.databricks.v1+cell": {
     "cellMetadata": {},
     "inputWidgets": {},
     "nuid": "38452b51-915e-49ec-99ad-6af7d51622d9",
     "showTitle": false,
     "tableResultSettingsMap": {},
     "title": ""
    }
   },
   "source": [
    "## What this notebook does\n",
    "1. Scan Volume for PDFs modified in last 24 hours (scheduled job)\n",
    "2. Extract metadata from document title page using OpenAI serving endpoint (created in notebook 1)\n",
    "3. Use metadata and document hash to check if document has already been processed\n",
    "4. If document is new or has new content then convert to markdown\n",
    "5. Upsert metadata and markdown to tables"
   ]
  },
  {
   "cell_type": "markdown",
   "metadata": {
    "application/vnd.databricks.v1+cell": {
     "cellMetadata": {},
     "inputWidgets": {},
     "nuid": "3099c9c2-4583-4ebc-9571-a1c426d8c928",
     "showTitle": false,
     "tableResultSettingsMap": {},
     "title": ""
    }
   },
   "source": [
    "## RAG Document Pipeline\n"
   ]
  },
  {
   "cell_type": "code",
   "execution_count": 0,
   "metadata": {
    "application/vnd.databricks.v1+cell": {
     "cellMetadata": {
      "byteLimit": 2048000,
      "rowLimit": 10000
     },
     "inputWidgets": {},
     "nuid": "ced8eda7-a692-43d7-b7a1-8a19ca01cb4f",
     "showTitle": false,
     "tableResultSettingsMap": {},
     "title": ""
    }
   },
   "outputs": [],
   "source": [
    "pdfs_volume_path = \"/Volumes/databricks_examples/financial_rag/form10k_pdfs\"\n",
    "pdfs_to_process = get_path_of_files_modified_in_last_day(pdfs_volume_path)"
   ]
  },
  {
   "cell_type": "code",
   "execution_count": 0,
   "metadata": {
    "application/vnd.databricks.v1+cell": {
     "cellMetadata": {
      "byteLimit": 2048000,
      "rowLimit": 10000
     },
     "inputWidgets": {},
     "nuid": "46f7c562-4db6-4409-9d4a-490a6705fc6a",
     "showTitle": false,
     "tableResultSettingsMap": {},
     "title": ""
    }
   },
   "outputs": [],
   "source": [
    "for pdf_path in pdfs_to_process:\n",
    "\n",
    "    # crude text extraction to get metadata from 1st page and create document hash\n",
    "    pdf_text = extract_pdf_text_basic(pdf_path)\n",
    "\n",
    "    # we know metadata exists on first page of form-10k\n",
    "    raw_response = get_form10k_metadata_from_pdf_text_with_llm(pdf_text[0], \"openai-completion-endpoint\")\n",
    "\n",
    "    # pydantic validation\n",
    "    isResponseValid = is_llm_response_valid(raw_response)\n",
    "\n",
    "    if not isResponseValid:\n",
    "        break\n",
    "\n",
    "    # pydantic parsing\n",
    "    json_metadata = parse_valid_llm_response(raw_response)\n",
    "\n",
    "    # unique hash made up of file number and pdf text - tells when content changed even if file number is same\n",
    "    document_hash = create_unique_pdf_hash(json_metadata['fileNumber'], \"\".join(pdf_text))\n",
    "    json_metadata['documentHash'] = document_hash\n",
    "    doesRecordExist = does_pdf_record_exist_metadata_table(json_metadata['fileNumber'], document_hash)\n",
    "\n",
    "    if doesRecordExist:\n",
    "        break\n",
    "\n",
    "    # state of art mistral OCR model - markdown is what we want to embed in vector DB\n",
    "    pdf_markdown = convert_pdf_to_markdown_mistral(pdf_path, dbutils.secrets.get(scope=\"mistral\", key=\"apikey\"))\n",
    "\n",
    "    # save markdown to volume\n",
    "    markdown_file_name = pdfs_to_process[0].split(\"/\")[-1].replace(\".pdf\", \".md\")\n",
    "    with open(f\"/Volumes/databricks_examples/financial_rag/form10k_markdown/{markdown_file_name}\", \"wt\") as f:\n",
    "        for page in pdf_markdown.pages:\n",
    "            f.write(page.markdown)\n",
    "\n",
    "    # update metadata and text tables\n",
    "    create_update_pdf_metadata(json_metadata)\n",
    "    delete_create_pdf_text(json_metadata, pdf_markdown)"
   ]
  },
  {
   "cell_type": "markdown",
   "metadata": {
    "application/vnd.databricks.v1+cell": {
     "cellMetadata": {},
     "inputWidgets": {},
     "nuid": "c46b0b65-b916-4437-8945-44fc90f65444",
     "showTitle": false,
     "tableResultSettingsMap": {},
     "title": ""
    }
   },
   "source": [
    "## Check table data"
   ]
  },
  {
   "cell_type": "code",
   "execution_count": 0,
   "metadata": {
    "application/vnd.databricks.v1+cell": {
     "cellMetadata": {
      "byteLimit": 2048000,
      "rowLimit": 10000
     },
     "inputWidgets": {},
     "nuid": "de24a7a7-965d-4a6f-82f6-d155d71a8da1",
     "showTitle": false,
     "tableResultSettingsMap": {},
     "title": ""
    }
   },
   "outputs": [],
   "source": [
    "query = \"SELECT * FROM databricks_examples.financial_rag.pdf_metadata\"\n",
    "result_df = spark.sql(query)\n",
    "display(result_df)"
   ]
  },
  {
   "cell_type": "code",
   "execution_count": 0,
   "metadata": {
    "application/vnd.databricks.v1+cell": {
     "cellMetadata": {
      "byteLimit": 2048000,
      "rowLimit": 10000
     },
     "inputWidgets": {},
     "nuid": "ff70b971-984e-4ffa-a6fa-2c7387f63d8f",
     "showTitle": false,
     "tableResultSettingsMap": {},
     "title": ""
    }
   },
   "outputs": [],
   "source": [
    "query = \"SELECT * FROM databricks_examples.financial_rag.pdf_markdown_text\"\n",
    "result_df = spark.sql(query)\n",
    "display(result_df)"
   ]
  }
 ],
 "metadata": {
  "application/vnd.databricks.v1+notebook": {
   "computePreferences": {
    "hardware": {
     "accelerator": null,
     "gpuPoolId": null,
     "memory": null
    }
   },
   "dashboards": [],
   "environmentMetadata": {
    "base_environment": "/Workspace/Users/hurleyldave2@gmail.com/databricks-rag/databricks_rag/base_environment.yml",
    "environment_version": "2"
   },
   "language": "python",
   "notebookMetadata": {
    "pythonIndentUnit": 4
   },
   "notebookName": "2_ocr_pdf_and_create_text_chunks",
   "widgets": {}
  },
  "kernelspec": {
   "display_name": "pyenv313",
   "language": "python",
   "name": "pyenv313"
  },
  "language_info": {
   "name": "python"
  }
 },
 "nbformat": 4,
 "nbformat_minor": 0
}
