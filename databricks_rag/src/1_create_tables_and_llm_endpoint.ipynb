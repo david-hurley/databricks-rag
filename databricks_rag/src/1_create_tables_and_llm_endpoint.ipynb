{
 "cells": [
  {
   "cell_type": "code",
   "execution_count": 1,
   "metadata": {
    "application/vnd.databricks.v1+cell": {
     "cellMetadata": {},
     "inputWidgets": {},
     "nuid": "76598b45-fc19-4983-87c1-6aaab562d895",
     "showTitle": false,
     "tableResultSettingsMap": {},
     "title": ""
    }
   },
   "outputs": [],
   "source": [
    "import mlflow.deployments"
   ]
  },
  {
   "cell_type": "markdown",
   "metadata": {
    "application/vnd.databricks.v1+cell": {
     "cellMetadata": {},
     "inputWidgets": {},
     "nuid": "0e7914c2-135e-4436-9380-4f4acb634c3e",
     "showTitle": false,
     "tableResultSettingsMap": {},
     "title": ""
    }
   },
   "source": [
    "## Actions to take\n",
    "1. Create secret scope for OpenAI API key\n",
    "2. Create external model endpoint to OpenAI model completions\n",
    "3. Create tables and schema to store chunked PDF document text and metadata"
   ]
  },
  {
   "cell_type": "markdown",
   "metadata": {
    "application/vnd.databricks.v1+cell": {
     "cellMetadata": {},
     "inputWidgets": {},
     "nuid": "ff59d29c-b737-4c7c-a2d0-838f7eb70bc3",
     "showTitle": false,
     "tableResultSettingsMap": {},
     "title": ""
    }
   },
   "source": [
    "## Create secret scope for OpenAI API key\n",
    "\n",
    "**1. Create scope**\n",
    "\n",
    "\n",
    "`databricks secrets create-scope openai`\n",
    "\n",
    "**2. Create secret - prompt will ask for secret value**\n",
    "\n",
    "\n",
    "`databricks secrets put-secret openai apikey`\n",
    "\n",
    "\n",
    "**3. Confirm scope was created**\n",
    "\n",
    "\n",
    "`databricks secrets list-scopes`"
   ]
  },
  {
   "cell_type": "markdown",
   "metadata": {
    "application/vnd.databricks.v1+cell": {
     "cellMetadata": {},
     "inputWidgets": {},
     "nuid": "06e93350-89bd-414a-9f52-d1be7f3c775f",
     "showTitle": false,
     "tableResultSettingsMap": {},
     "title": ""
    }
   },
   "source": [
    "## Create external model endpoint pointing at OpenAI model"
   ]
  },
  {
   "cell_type": "code",
   "execution_count": 0,
   "metadata": {
    "application/vnd.databricks.v1+cell": {
     "cellMetadata": {},
     "inputWidgets": {},
     "nuid": "ef575489-8826-484a-b748-4816f1334f6c",
     "showTitle": false,
     "tableResultSettingsMap": {},
     "title": ""
    }
   },
   "outputs": [],
   "source": [
    "client = mlflow.deployments.get_deploy_client(\"databricks\")\n",
    "\n",
    "endpoint = client.create_endpoint(\n",
    "    name=\"openai-completion-endpoint\",\n",
    "    config={\n",
    "        \"served_entities\": [\n",
    "            {\n",
    "                \"name\": \"completions\",\n",
    "                \"external_model\": {\n",
    "                    \"name\": \"o3-mini\",\n",
    "                    \"provider\": \"openai\",\n",
    "                    \"task\": \"llm/v1/chat\",\n",
    "                    \"openai_config\": {\n",
    "                        \"openai_api_key\": \"{{secrets/openai/apikey}}\",\n",
    "                    },\n",
    "                },\n",
    "            }\n",
    "        ],\n",
    "    },\n",
    ")"
   ]
  },
  {
   "cell_type": "markdown",
   "metadata": {
    "application/vnd.databricks.v1+cell": {
     "cellMetadata": {},
     "inputWidgets": {},
     "nuid": "dfc7de0a-684a-4781-9cae-b433ec02da1d",
     "showTitle": false,
     "tableResultSettingsMap": {},
     "title": ""
    }
   },
   "source": [
    "## Create tables to store document text and metadata"
   ]
  },
  {
   "cell_type": "code",
   "execution_count": 0,
   "metadata": {
    "application/vnd.databricks.v1+cell": {
     "cellMetadata": {},
     "inputWidgets": {},
     "nuid": "07c4bae4-97f5-4c37-b152-f52dedfe5f41",
     "showTitle": false,
     "tableResultSettingsMap": {},
     "title": ""
    }
   },
   "outputs": [],
   "source": [
    "%sql\n",
    "CREATE TABLE IF NOT EXISTS financial_rag.rag.edgar_pdf_metadata (\n",
    "    fileNumber BIGINT PRIMARY KEY,\n",
    "    companyName STRING,\n",
    "    tradingSymbol STRING,\n",
    "    fiscalYearEndDate STRING,\n",
    "    documentHash STRING\n",
    ") TBLPROPERTIES (delta.enableChangeDataFeed = true);\n",
    "\n",
    "CREATE TABLE IF NOT EXISTS financial_rag.rag.edgar_pdf_text (\n",
    "    id BIGINT GENERATED ALWAYS AS IDENTITY,\n",
    "    edgar_pdf_metadata_fileNumber BIGINT,\n",
    "    text STRING,\n",
    "    pageNumber INT,\n",
    "    FOREIGN KEY (edgar_pdf_metadata_fileNumber) REFERENCES financial_rag.rag.edgar_pdf_metadata(fileNumber)\n",
    ") TBLPROPERTIES (delta.enableChangeDataFeed = true);"
   ]
  }
 ],
 "metadata": {
  "application/vnd.databricks.v1+notebook": {
   "computePreferences": null,
   "dashboards": [],
   "environmentMetadata": {
    "base_environment": "",
    "environment_version": "2"
   },
   "language": "python",
   "notebookMetadata": {
    "pythonIndentUnit": 4
   },
   "notebookName": "1_create_tables_and_llm_endpoint",
   "widgets": {}
  },
  "kernelspec": {
   "display_name": "pyenv313",
   "language": "python",
   "name": "pyenv313"
  },
  "language_info": {
   "codemirror_mode": {
    "name": "ipython",
    "version": 3
   },
   "file_extension": ".py",
   "mimetype": "text/x-python",
   "name": "python",
   "nbconvert_exporter": "python",
   "pygments_lexer": "ipython3",
   "version": "3.10.0"
  }
 },
 "nbformat": 4,
 "nbformat_minor": 0
}
